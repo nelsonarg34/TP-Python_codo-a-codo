{
 "cells": [
  {
   "cell_type": "markdown",
   "id": "9462c312",
   "metadata": {},
   "source": [
    "### Actividad Práctica - Python Unidad 1"
   ]
  },
  {
   "cell_type": "markdown",
   "id": "4a67e27a",
   "metadata": {},
   "source": [
    "1) Escribe un programa muestre por pantalla “Hello World"
   ]
  },
  {
   "cell_type": "code",
   "execution_count": null,
   "id": "83a821db",
   "metadata": {},
   "outputs": [],
   "source": [
    "print(\"hello World\")"
   ]
  },
  {
   "cell_type": "markdown",
   "id": "885d2c2f",
   "metadata": {},
   "source": [
    "2) Escribe un programa que escriba en la pantalla el resultado de sumar 3 + 5."
   ]
  },
  {
   "cell_type": "code",
   "execution_count": null,
   "id": "f52820b0",
   "metadata": {},
   "outputs": [],
   "source": [
    "x = 3 + 5\n",
    "print(x)"
   ]
  },
  {
   "cell_type": "markdown",
   "id": "79bc92eb",
   "metadata": {},
   "source": [
    "3) Escribe un programa que pida el nombre del usuario y escriba un texto que\n",
    "diga “Hola nombreUsuario”"
   ]
  },
  {
   "cell_type": "code",
   "execution_count": null,
   "id": "35e024a9",
   "metadata": {},
   "outputs": [],
   "source": [
    "nombreUsuario = input(\"ingrese su nombre: \")\n",
    "print(\"Hola \", nombreUsuario)"
   ]
  },
  {
   "cell_type": "markdown",
   "id": "150e2fc7",
   "metadata": {},
   "source": [
    "4) Escribe un programa que pida un número, pida otro número y escriba el\n",
    "resultado de sumar estos dos números."
   ]
  },
  {
   "cell_type": "code",
   "execution_count": null,
   "id": "a076721a",
   "metadata": {},
   "outputs": [],
   "source": [
    "num1 = int(input(\"Ingrese un número entero: \"))\n",
    "num2 = int(input(\"Ingrese otro nùmero entero: \"))\n",
    "sum = num1 + num2\n",
    "print( \"La suma de los dos nùmeros ingresados es: \",sum)"
   ]
  },
  {
   "cell_type": "markdown",
   "id": "b9d350e0",
   "metadata": {},
   "source": [
    "5) Escribe un programa que pida dos números y escriba en la pantalla cual es el\n",
    "mayor."
   ]
  },
  {
   "cell_type": "code",
   "execution_count": null,
   "id": "a0fcbb31",
   "metadata": {},
   "outputs": [],
   "source": [
    "num1 = int(input(\"Ingrese un número entero: \"))\n",
    "num2 = int(input(\"Ingrese otro nùmero entero: \"))\n",
    "if num1==num2:\n",
    "    print(\"Nùmeros iguales\")\n",
    "elif num1>num2:\n",
    "    print(num1, \" es el mayor\")\n",
    "else:\n",
    "    print(num2, \" es el mayor\")"
   ]
  },
  {
   "cell_type": "markdown",
   "id": "edf8addc",
   "metadata": {},
   "source": [
    "6) Escribe un programa que pida 3 números y escriba en la pantalla el mayor de\n",
    "los tres."
   ]
  },
  {
   "cell_type": "code",
   "execution_count": null,
   "id": "21ecad68",
   "metadata": {},
   "outputs": [],
   "source": [
    "num1 = int(input(\"Ingrese un número entero: \"))\n",
    "num2 = int(input(\"Ingrese otro nùmero entero: \"))\n",
    "if num1>num2:\n",
    "    may = num1\n",
    "else:\n",
    "    may = num2\n",
    "num3 = int(input(\"Ingrese otro nùmero entero: \"))\n",
    "if num3>may:\n",
    "    print(num3,\" es el mayor\")\n",
    "else:\n",
    "    print(may,\" es le mayor\")"
   ]
  },
  {
   "cell_type": "markdown",
   "id": "a5f50ab2",
   "metadata": {},
   "source": [
    "7) Escribe un programa que pida un número y diga si es divisible por 2"
   ]
  },
  {
   "cell_type": "code",
   "execution_count": null,
   "id": "3a66a739",
   "metadata": {},
   "outputs": [],
   "source": [
    "num = int(input(\"Ingrese un nùmero entero: \"))\n",
    "if num%2 == 0:\n",
    "    print(\"El número ingresado es divisible por 2\")\n",
    "else:\n",
    "    print(\"El número no es divisible por 2\")"
   ]
  },
  {
   "cell_type": "markdown",
   "id": "b80c7567",
   "metadata": {},
   "source": [
    "8) Escribe un programa que pida un número y nos diga si es divisible por 2, 3, 5 o\n",
    "7 (sólo hay que comprobar si lo es por uno de los cuatro)"
   ]
  },
  {
   "cell_type": "code",
   "execution_count": null,
   "id": "6a95f702",
   "metadata": {},
   "outputs": [],
   "source": [
    "num = int(input(\"Ingrese otro nùmero entero: \"))\n",
    "div = 0\n",
    "if num%2 == 0:\n",
    "    div=1\n",
    "    print(\"Es divisible por 2\")\n",
    "if num%3 == 0:\n",
    "    div=1\n",
    "    print(\"Es divisible por 3\")\n",
    "if num%5 == 0:\n",
    "    div=1\n",
    "    print(\"Es divisible por 5\")\n",
    "if num%7 == 0:\n",
    "    div=1\n",
    "    print(\"Es divisible por 7\")\n",
    "if div==0:\n",
    "    print(\"No es divisible por 2, 3, 5 y 7\")"
   ]
  },
  {
   "cell_type": "markdown",
   "id": "0b7169f8",
   "metadata": {},
   "source": [
    "9) Añadir al ejercicio anterior que nos diga por cuál de los cuatro es divisible (hay\n",
    "que decir todos por los que es divisible)"
   ]
  },
  {
   "cell_type": "code",
   "execution_count": null,
   "id": "25f6e604",
   "metadata": {},
   "outputs": [],
   "source": [
    "num = int(input(\"Ingrese un número entero: \"))\n",
    "divisores =[]\n",
    "for divisor in range(1,num+1):\n",
    "    if num%divisor == 0:\n",
    "        divisores.append(divisor)\n",
    "div_str = str(divisores)[1:-1]\n",
    "print(\"Es divisible por \",div_str)"
   ]
  },
  {
   "cell_type": "markdown",
   "id": "28912ee6",
   "metadata": {},
   "source": [
    "11) Escribir un programa que nos diga si un número dado es primo (no es divisible por ninguno otro número que no sea él mismo o la unidad)"
   ]
  },
  {
   "cell_type": "code",
   "execution_count": null,
   "id": "9e7b7b1c",
   "metadata": {},
   "outputs": [],
   "source": [
    "def esPrimo(num):\n",
    "    if num<1:\n",
    "        return False\n",
    "    elif num==2:\n",
    "        return True\n",
    "    else:\n",
    "        for divisor in range(2,num+1):\n",
    "            if num%divisor==0:\n",
    "                return False\n",
    "            else:\n",
    "                return True\n",
    "\n",
    "num=int(input(\"Ingrese un número: \"))\n",
    "resultado=esPrimo(num)\n",
    "if resultado is True:\n",
    "        print(\"Es primo\")\n",
    "else:\n",
    "    print(\"No es primo\")"
   ]
  },
  {
   "cell_type": "markdown",
   "id": "d6b0adf2",
   "metadata": {},
   "source": [
    "```\n",
    "12) Pide una nota (número). Muestra la calificación según la nota:\n",
    " 0-3: Muy deficiente\n",
    " 3-5: Insuficiente\n",
    " 5-6: Suficiente\n",
    " 6-7: Bien\n",
    " 7-9: Notable\n",
    " 9-10: Sobresaliente```"
   ]
  },
  {
   "cell_type": "code",
   "execution_count": null,
   "id": "ea1f06f6",
   "metadata": {},
   "outputs": [],
   "source": [
    "num=int(input(\"Ingrese una nota (1-10): \"))\n",
    "while num>=0 and num<=10:\n",
    "    if num>=0 and num<=3:\n",
    "        print(\"Muy deficiente\")\n",
    "    if num>3 and num<=5:\n",
    "        print(\"Insuficiente\")\n",
    "    if num>5 and num<=6:\n",
    "        print(\"Suficiente\")\n",
    "    if num>6 and num<=7:\n",
    "        print(\"Bien\")\n",
    "    if num>7 and num<=9:\n",
    "        print(\"Notable\")\n",
    "    if num>9 and num<=10:\n",
    "        print(\"Sobresaliente\")\n",
    "    num=int(input(\"Ingrese otra nota (Salir = 11): \"))   "
   ]
  },
  {
   "cell_type": "markdown",
   "id": "f1ae0b76",
   "metadata": {},
   "source": [
    "```\n",
    "13) Realiza un programa que escriba una pirámide del 1 al 30 de la siguiente\n",
    "forma:\n",
    "1\n",
    "22\n",
    "333\n",
    "4444\n",
    "55555\n",
    "666666\n",
    "……….```"
   ]
  },
  {
   "cell_type": "code",
   "execution_count": null,
   "id": "a40e4bc8",
   "metadata": {},
   "outputs": [],
   "source": [
    "for i in range(1,31):\n",
    "    num_str = str(i)\n",
    "    print(num_str*i)"
   ]
  },
  {
   "cell_type": "markdown",
   "id": "4eb6f458",
   "metadata": {},
   "source": [
    "```\n",
    "14) Haz un programa que escriba una pirámide inversa de los números del 1 al\n",
    "número que indique el usuario de la siguiente forma (suponiendo que indica 6):\n",
    "666666\n",
    "555554444\n",
    "333\n",
    "22\n",
    "1```"
   ]
  },
  {
   "cell_type": "code",
   "execution_count": null,
   "id": "8d902ebf",
   "metadata": {},
   "outputs": [],
   "source": [
    "num = int(input(\"Ingrese un número: \"))\n",
    "for i in range(num,0,-1):\n",
    "    num_str = str(i)\n",
    "    print(num_str*i)"
   ]
  },
  {
   "cell_type": "markdown",
   "id": "9c8d880a",
   "metadata": {},
   "source": [
    "```\n",
    "15) Crear un programa que escriba los números del 1 al 500, y que indique cuales \n",
    "son múltiplos de 4 y de 9 y que cada 5 líneas muestre una línea horizontal. \n",
    "Por ejemplo:\n",
    "1\n",
    "2\n",
    "3\n",
    "4 (Múltiplo de 4)\n",
    "5\n",
    "\"------------------------------------------------------------\"  \n",
    "6\n",
    "7  \n",
    "8 (Múltiplo de 4)\n",
    "9 (Múltiplo de 9)\n",
    "10 ```"
   ]
  },
  {
   "cell_type": "code",
   "execution_count": null,
   "id": "5496ccea",
   "metadata": {},
   "outputs": [],
   "source": [
    "for i in range(1,501):\n",
    "    if i%4 == 0 and i%9 == 0:\n",
    "        print(i,\" (Múltiplo de 4 y 9)\")\n",
    "    elif i%9 == 0:\n",
    "        print(i,\" (Múltiplo de 9)\")\n",
    "    elif i%4 == 0:\n",
    "        print(i,\" (Múltiplo de 4)\")\n",
    "    elif i%5 == 0:\n",
    "        print(i)\n",
    "        print(\"------------------------------\")\n",
    "    else:\n",
    "        print(i)"
   ]
  }
 ],
 "metadata": {
  "kernelspec": {
   "display_name": "Python 3 (ipykernel)",
   "language": "python",
   "name": "python3"
  },
  "language_info": {
   "codemirror_mode": {
    "name": "ipython",
    "version": 3
   },
   "file_extension": ".py",
   "mimetype": "text/x-python",
   "name": "python",
   "nbconvert_exporter": "python",
   "pygments_lexer": "ipython3",
   "version": "3.8.10"
  }
 },
 "nbformat": 4,
 "nbformat_minor": 5
}

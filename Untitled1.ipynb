{
 "cells": [
  {
   "cell_type": "markdown",
   "id": "92ed2811",
   "metadata": {},
   "source": []
  },
  {
   "cell_type": "markdown",
   "id": "3f799216",
   "metadata": {},
   "source": []
  },
  {
   "cell_type": "code",
   "execution_count": null,
   "id": "45915129",
   "metadata": {},
   "outputs": [],
   "source": [
    "def mayorEstricto(n1,n2,n3):\n",
    "    if n1==n2:\n",
    "        if n1<n3:\n",
    "            return n3\n",
    "        else:\n",
    "            return -1\n",
    "    else:\n",
    "        if n1>n2:\n",
    "            if n1>n3:\n",
    "                return n1\n",
    "            else:\n",
    "                return -1\n",
    "        else:\n",
    "            if n2>n3:\n",
    "                return n2\n",
    "            elif n2==n3:\n",
    "                return -1\n",
    "            else:\n",
    "                return n3\n",
    "        \n",
    "    \n",
    "def app():\n",
    "    num1 = int(input(\"N1: \"))\n",
    "    num2 = int(input(\"N2: \"))\n",
    "    num3 = int(input(\"N3: \"))\n",
    "    mayor = mayorEstricto(num1,num2,num3)\n",
    "    if mayor == -1:\n",
    "        print(\"No exite un número mayor estricto\")\n",
    "    else:\n",
    "        print(\"Número mayor estricto hallado: \",mayor)\n",
    "        \n",
    "print(\"Ingrese tres números enteros\")\n",
    "app()"
   ]
  },
  {
   "cell_type": "code",
   "execution_count": null,
   "id": "dbe01ce9",
   "metadata": {},
   "outputs": [],
   "source": []
  }
 ],
 "metadata": {
  "kernelspec": {
   "display_name": "Python 3 (ipykernel)",
   "language": "python",
   "name": "python3"
  },
  "language_info": {
   "codemirror_mode": {
    "name": "ipython",
    "version": 3
   },
   "file_extension": ".py",
   "mimetype": "text/x-python",
   "name": "python",
   "nbconvert_exporter": "python",
   "pygments_lexer": "ipython3",
   "version": "3.8.10"
  }
 },
 "nbformat": 4,
 "nbformat_minor": 5
}
